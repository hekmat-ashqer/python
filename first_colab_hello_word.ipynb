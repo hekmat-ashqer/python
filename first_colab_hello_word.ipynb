{
  "nbformat": 4,
  "nbformat_minor": 0,
  "metadata": {
    "colab": {
      "provenance": [],
      "authorship_tag": "ABX9TyNcvXhE1Kdbii++00EQX6/Q",
      "include_colab_link": true
    },
    "kernelspec": {
      "name": "python3",
      "display_name": "Python 3"
    },
    "language_info": {
      "name": "python"
    }
  },
  "cells": [
    {
      "cell_type": "markdown",
      "metadata": {
        "id": "view-in-github",
        "colab_type": "text"
      },
      "source": [
        "<a href=\"https://colab.research.google.com/github/hekmat-ashqer/python/blob/main/first_colab_hello_word.ipynb\" target=\"_parent\"><img src=\"https://colab.research.google.com/assets/colab-badge.svg\" alt=\"Open In Colab\"/></a>"
      ]
    },
    {
      "cell_type": "code",
      "execution_count": null,
      "metadata": {
        "colab": {
          "base_uri": "https://localhost:8080/"
        },
        "id": "3cun0Lqm6Snx",
        "outputId": "11a61011-d201-4561-c4fe-5b4ee2cd44e0"
      },
      "outputs": [
        {
          "output_type": "execute_result",
          "data": {
            "text/plain": [
              "2"
            ]
          },
          "metadata": {},
          "execution_count": 2
        }
      ],
      "source": [
        "# add two integers together\n",
        "1 + 1"
      ]
    },
    {
      "cell_type": "code",
      "source": [
        "# Find the difference between two numbers\n",
        "4 - 1"
      ],
      "metadata": {
        "colab": {
          "base_uri": "https://localhost:8080/"
        },
        "id": "ZSgqHyL685NJ",
        "outputId": "925911e9-b2f6-4259-90c7-09885f8c2ec7"
      },
      "execution_count": null,
      "outputs": [
        {
          "output_type": "execute_result",
          "data": {
            "text/plain": [
              "3"
            ]
          },
          "metadata": {},
          "execution_count": 3
        }
      ]
    },
    {
      "cell_type": "code",
      "source": [
        "# This operator raises the number to its left to the power of the number to its right\n",
        "2 ** 4"
      ],
      "metadata": {
        "colab": {
          "base_uri": "https://localhost:8080/"
        },
        "id": "TRgUtiyf88Ce",
        "outputId": "19e831b3-f8b6-46a9-cfe5-1b53700db00e"
      },
      "execution_count": null,
      "outputs": [
        {
          "output_type": "execute_result",
          "data": {
            "text/plain": [
              "16"
            ]
          },
          "metadata": {},
          "execution_count": 4
        }
      ]
    },
    {
      "cell_type": "code",
      "source": [
        "# Multiply two numbers\n",
        "2 * 3"
      ],
      "metadata": {
        "colab": {
          "base_uri": "https://localhost:8080/"
        },
        "id": "yfbalhCk9Bwc",
        "outputId": "e8092e7d-c2f1-458a-c0d2-97c5b646d3df"
      },
      "execution_count": null,
      "outputs": [
        {
          "output_type": "execute_result",
          "data": {
            "text/plain": [
              "6"
            ]
          },
          "metadata": {},
          "execution_count": 5
        }
      ]
    },
    {
      "cell_type": "code",
      "source": [
        "# The modulo (%) operator returns the remainder of the division\n",
        "20 % 3"
      ],
      "metadata": {
        "colab": {
          "base_uri": "https://localhost:8080/"
        },
        "id": "K0OerrMW-JkO",
        "outputId": "cf32ce8e-10af-43aa-d630-c38cd3e2224a"
      },
      "execution_count": null,
      "outputs": [
        {
          "output_type": "execute_result",
          "data": {
            "text/plain": [
              "2"
            ]
          },
          "metadata": {},
          "execution_count": 7
        }
      ]
    },
    {
      "cell_type": "code",
      "source": [
        "# Divide the number on the left by the number on the right and drop the remainder.\n",
        "20 // 3"
      ],
      "metadata": {
        "colab": {
          "base_uri": "https://localhost:8080/"
        },
        "id": "wGpBTzol-bwq",
        "outputId": "f6b55629-a3ed-4a5f-b9d0-2cd6a6bdcba2"
      },
      "execution_count": null,
      "outputs": [
        {
          "output_type": "execute_result",
          "data": {
            "text/plain": [
              "6"
            ]
          },
          "metadata": {},
          "execution_count": 8
        }
      ]
    },
    {
      "cell_type": "code",
      "source": [
        "# this is simple calculation for Order of Operations\n",
        "(1 + 4) / 2"
      ],
      "metadata": {
        "colab": {
          "base_uri": "https://localhost:8080/"
        },
        "id": "HXbhR0xW_LQL",
        "outputId": "80124e75-7e5e-4c84-a412-4bb441ab9573"
      },
      "execution_count": null,
      "outputs": [
        {
          "output_type": "execute_result",
          "data": {
            "text/plain": [
              "2.5"
            ]
          },
          "metadata": {},
          "execution_count": 15
        }
      ]
    },
    {
      "cell_type": "code",
      "source": [
        "# this is simple calculation for Order of Operations\n",
        "\n",
        "1+4/2"
      ],
      "metadata": {
        "colab": {
          "base_uri": "https://localhost:8080/"
        },
        "id": "3PKWNBwY_Omf",
        "outputId": "4ca35a10-0e45-4fea-e09b-c81489d98e84"
      },
      "execution_count": null,
      "outputs": [
        {
          "output_type": "execute_result",
          "data": {
            "text/plain": [
              "3.0"
            ]
          },
          "metadata": {},
          "execution_count": 17
        }
      ]
    },
    {
      "cell_type": "code",
      "source": [
        "# round to keep 2 places after the decimal\n",
        "round(10/3)"
      ],
      "metadata": {
        "colab": {
          "base_uri": "https://localhost:8080/"
        },
        "id": "nmh3fTbBJd-3",
        "outputId": "7fb891e2-6eab-4b17-d1c4-385af7ca14b7"
      },
      "execution_count": null,
      "outputs": [
        {
          "output_type": "execute_result",
          "data": {
            "text/plain": [
              "3"
            ]
          },
          "metadata": {},
          "execution_count": 23
        }
      ]
    },
    {
      "cell_type": "code",
      "source": [
        "# round to keep 2 places after the decimal\n",
        "round(10/3, 2)"
      ],
      "metadata": {
        "colab": {
          "base_uri": "https://localhost:8080/"
        },
        "id": "8-9Kvk3BJ2UH",
        "outputId": "842d4957-8d1f-4271-bf95-65f4d20825a7"
      },
      "execution_count": null,
      "outputs": [
        {
          "output_type": "execute_result",
          "data": {
            "text/plain": [
              "3.33"
            ]
          },
          "metadata": {},
          "execution_count": 24
        }
      ]
    },
    {
      "cell_type": "code",
      "source": [
        "# We will define a bool\n",
        "12 == (3*4)"
      ],
      "metadata": {
        "colab": {
          "base_uri": "https://localhost:8080/"
        },
        "id": "3F5TaYsdKC72",
        "outputId": "72b312d5-1edd-483c-f075-b755e17e239c"
      },
      "execution_count": null,
      "outputs": [
        {
          "output_type": "execute_result",
          "data": {
            "text/plain": [
              "True"
            ]
          },
          "metadata": {},
          "execution_count": 25
        }
      ]
    },
    {
      "cell_type": "code",
      "source": [
        "# We will define a bool\n",
        "12 == (7*8)"
      ],
      "metadata": {
        "colab": {
          "base_uri": "https://localhost:8080/"
        },
        "id": "q70A1BYEKFLR",
        "outputId": "ec13d40e-dfe5-483b-8828-2d2643188e58"
      },
      "execution_count": null,
      "outputs": [
        {
          "output_type": "execute_result",
          "data": {
            "text/plain": [
              "False"
            ]
          },
          "metadata": {},
          "execution_count": 26
        }
      ]
    },
    {
      "cell_type": "code",
      "source": [
        "# We will define a bool\n",
        "5 == 5"
      ],
      "metadata": {
        "colab": {
          "base_uri": "https://localhost:8080/"
        },
        "id": "Wv8IzhS5KVBr",
        "outputId": "368f03b3-ae31-4bb0-e766-4d996c05acc3"
      },
      "execution_count": null,
      "outputs": [
        {
          "output_type": "execute_result",
          "data": {
            "text/plain": [
              "True"
            ]
          },
          "metadata": {},
          "execution_count": 28
        }
      ]
    },
    {
      "cell_type": "code",
      "source": [
        "# We will define a bool\n",
        "5 != 2"
      ],
      "metadata": {
        "colab": {
          "base_uri": "https://localhost:8080/"
        },
        "id": "IE64tCXjKVTZ",
        "outputId": "0e971799-2810-40ba-da5f-a027eab4213c"
      },
      "execution_count": null,
      "outputs": [
        {
          "output_type": "execute_result",
          "data": {
            "text/plain": [
              "True"
            ]
          },
          "metadata": {},
          "execution_count": 30
        }
      ]
    },
    {
      "cell_type": "code",
      "source": [
        "# We will define a bool\n",
        "5 > 2"
      ],
      "metadata": {
        "colab": {
          "base_uri": "https://localhost:8080/"
        },
        "id": "QBXJrRZ4KViB",
        "outputId": "77b7257c-bb09-4e8d-b970-c47a6e86f52e"
      },
      "execution_count": null,
      "outputs": [
        {
          "output_type": "execute_result",
          "data": {
            "text/plain": [
              "True"
            ]
          },
          "metadata": {},
          "execution_count": 31
        }
      ]
    },
    {
      "cell_type": "code",
      "source": [
        "# We will define a bool\n",
        "2 < 5"
      ],
      "metadata": {
        "colab": {
          "base_uri": "https://localhost:8080/"
        },
        "id": "awKW9HzpKWM9",
        "outputId": "eeefd2d8-a95a-4656-f083-e1a7243fff62"
      },
      "execution_count": null,
      "outputs": [
        {
          "output_type": "execute_result",
          "data": {
            "text/plain": [
              "True"
            ]
          },
          "metadata": {},
          "execution_count": 32
        }
      ]
    },
    {
      "cell_type": "code",
      "source": [
        "print(\"I\\nlove\\ncoding!\")"
      ],
      "metadata": {
        "colab": {
          "base_uri": "https://localhost:8080/"
        },
        "id": "aVubzPGoK4xz",
        "outputId": "5356d557-1270-498e-a046-479d97b76a67"
      },
      "execution_count": null,
      "outputs": [
        {
          "output_type": "stream",
          "name": "stdout",
          "text": [
            "I\n",
            "love\n",
            "coding!\n"
          ]
        }
      ]
    },
    {
      "cell_type": "code",
      "source": [
        "print(\" i \\n love \\n python\")"
      ],
      "metadata": {
        "colab": {
          "base_uri": "https://localhost:8080/"
        },
        "id": "yf_5i6_dK59J",
        "outputId": "7bd89433-561e-4c0b-abc8-4a7ec18ca63a"
      },
      "execution_count": null,
      "outputs": [
        {
          "output_type": "stream",
          "name": "stdout",
          "text": [
            " i \n",
            " love \n",
            " python\n"
          ]
        }
      ]
    },
    {
      "cell_type": "code",
      "source": [
        "# check the data type\n",
        "type(6)"
      ],
      "metadata": {
        "colab": {
          "base_uri": "https://localhost:8080/"
        },
        "id": "cco1HT4KLRhg",
        "outputId": "725c0a64-03c5-48ed-8b6a-d0e615a441a2"
      },
      "execution_count": null,
      "outputs": [
        {
          "output_type": "execute_result",
          "data": {
            "text/plain": [
              "int"
            ]
          },
          "metadata": {},
          "execution_count": 39
        }
      ]
    },
    {
      "cell_type": "code",
      "source": [
        "# check the data type\n",
        "type(\" i \\n love \\n python\")"
      ],
      "metadata": {
        "colab": {
          "base_uri": "https://localhost:8080/"
        },
        "id": "NbhZn5xJLWNC",
        "outputId": "765872ba-beb3-4254-8463-ec2ef922f01a"
      },
      "execution_count": null,
      "outputs": [
        {
          "output_type": "execute_result",
          "data": {
            "text/plain": [
              "str"
            ]
          },
          "metadata": {},
          "execution_count": 40
        }
      ]
    },
    {
      "cell_type": "code",
      "source": [
        "# check the data type\n",
        "type(5==2)"
      ],
      "metadata": {
        "colab": {
          "base_uri": "https://localhost:8080/"
        },
        "id": "1lOFgXw6LYu-",
        "outputId": "82f9cd3c-fa74-42ce-b57e-3f4b7d45440a"
      },
      "execution_count": null,
      "outputs": [
        {
          "output_type": "execute_result",
          "data": {
            "text/plain": [
              "bool"
            ]
          },
          "metadata": {},
          "execution_count": 41
        }
      ]
    },
    {
      "cell_type": "code",
      "source": [
        "# check the data type\n",
        "type(5.2)"
      ],
      "metadata": {
        "colab": {
          "base_uri": "https://localhost:8080/"
        },
        "id": "kIDxPmc-Lex0",
        "outputId": "c65b1c5d-6f68-4c23-ed30-52b56e060b48"
      },
      "execution_count": null,
      "outputs": [
        {
          "output_type": "execute_result",
          "data": {
            "text/plain": [
              "float"
            ]
          },
          "metadata": {},
          "execution_count": 42
        }
      ]
    },
    {
      "cell_type": "code",
      "source": [
        "# check the type\n",
        "type(6*.5)"
      ],
      "metadata": {
        "colab": {
          "base_uri": "https://localhost:8080/"
        },
        "id": "5qTHP3TkLnMm",
        "outputId": "7f68b868-acb2-4443-c733-2f18fe1591df"
      },
      "execution_count": null,
      "outputs": [
        {
          "output_type": "execute_result",
          "data": {
            "text/plain": [
              "float"
            ]
          },
          "metadata": {},
          "execution_count": 44
        }
      ]
    },
    {
      "cell_type": "code",
      "source": [
        "# Run this cell to declare the variable and print what the variable 'a' points to.\n",
        "# Declare a variable, a, and point it to 9\n",
        "a = 9\n",
        "# Print the value that the variable a points to.\n",
        "print(a)"
      ],
      "metadata": {
        "colab": {
          "base_uri": "https://localhost:8080/"
        },
        "id": "_1jKt5r4OMyN",
        "outputId": "0beb6d67-9270-4257-debf-e020783b0659"
      },
      "execution_count": null,
      "outputs": [
        {
          "output_type": "stream",
          "name": "stdout",
          "text": [
            "9\n"
          ]
        }
      ]
    },
    {
      "cell_type": "code",
      "source": [
        "# Declare a variable, b, and point it to the number 14\n",
        "b = 14"
      ],
      "metadata": {
        "id": "hLygf4BvOYDg"
      },
      "execution_count": null,
      "outputs": []
    },
    {
      "cell_type": "code",
      "source": [
        "# Run this cell to declare the variable max_value as the value that max(a,b) returns.\n",
        "# Remember that we declared variables a and b in previous cells.\n",
        "max_value = max(a, b)\n",
        "# Print the value that max_value points to.\n",
        "print(max_value)"
      ],
      "metadata": {
        "colab": {
          "base_uri": "https://localhost:8080/"
        },
        "id": "jx9ZEk8oOctI",
        "outputId": "76650db0-ad1d-428f-d862-b762075eacf1"
      },
      "execution_count": null,
      "outputs": [
        {
          "output_type": "stream",
          "name": "stdout",
          "text": [
            "14\n"
          ]
        }
      ]
    },
    {
      "cell_type": "code",
      "source": [
        "# Run this cell to see what the difference between b and a is.\n",
        "difference = b-a\n",
        "print(difference)"
      ],
      "metadata": {
        "colab": {
          "base_uri": "https://localhost:8080/"
        },
        "id": "GAbwSFf9OoSA",
        "outputId": "30f5bdef-6360-499a-9dd3-3b42d42e583f"
      },
      "execution_count": null,
      "outputs": [
        {
          "output_type": "stream",
          "name": "stdout",
          "text": [
            "5\n"
          ]
        }
      ]
    },
    {
      "cell_type": "code",
      "source": [
        "# Does .upper() return a value or change a value in place?\n",
        "message = 'hello'\n",
        "caps = message.upper()\n",
        "print(message)\n",
        "print(caps)\n",
        "\n"
      ],
      "metadata": {
        "colab": {
          "base_uri": "https://localhost:8080/"
        },
        "id": "DJRwexC3O45S",
        "outputId": "ab0ce14f-2192-4a1e-f6ec-32f389ae1adb"
      },
      "execution_count": null,
      "outputs": [
        {
          "output_type": "stream",
          "name": "stdout",
          "text": [
            "hello\n",
            "HELLO\n"
          ]
        }
      ]
    },
    {
      "cell_type": "code",
      "source": [
        "# Use an f-string to insert variable values\n",
        "regular_price = 300\n",
        "sale = .2\n",
        "sale_price = (1-sale)*regular_price\n",
        "statement = f'The orignal cost was ${regular_price}, but I purchased it on sale for ${sale_price}.'\n",
        "print(statement)\n",
        "type(regular_price)\n",
        "print('\\n')\n",
        "\n",
        "type(sale)\n",
        "print('\\n')\n",
        "\n",
        "type(sale_price)\n",
        "\n",
        "print('\\n')\n",
        "type(statement)\n"
      ],
      "metadata": {
        "colab": {
          "base_uri": "https://localhost:8080/"
        },
        "id": "dLPDCj_BPN1P",
        "outputId": "5a084609-0c51-43ee-cd62-2c28b8b5b2c7"
      },
      "execution_count": null,
      "outputs": [
        {
          "output_type": "stream",
          "name": "stdout",
          "text": [
            "The orignal cost was $300, but I purchased it on sale for $240.0.\n",
            "\n",
            "\n",
            "\n",
            "\n",
            "\n",
            "\n"
          ]
        },
        {
          "output_type": "execute_result",
          "data": {
            "text/plain": [
              "str"
            ]
          },
          "metadata": {},
          "execution_count": 54
        }
      ]
    },
    {
      "cell_type": "code",
      "source": [
        "# Use an f-string to insert variable values\n",
        "regular_price = 300\n",
        "sale = .2\n",
        "sale_price = (1-sale)*regular_price\n",
        "statement = f\"The orignal cost was \"+f\", but I purchased it on sale for ${sale_price}.\"\n",
        "print(statement)"
      ],
      "metadata": {
        "colab": {
          "base_uri": "https://localhost:8080/"
        },
        "id": "JbJCmZT1SK6d",
        "outputId": "27a12bd9-bf45-42fc-e97d-af1b9313a20e"
      },
      "execution_count": null,
      "outputs": [
        {
          "output_type": "stream",
          "name": "stdout",
          "text": [
            "The orignal cost was , but I purchased it on sale for $240.0.\n"
          ]
        }
      ]
    },
    {
      "cell_type": "code",
      "source": [
        "# Create a list object declared as the variable grocery\n",
        "grocery = ['eggs', 'milk']\n",
        "print(grocery)"
      ],
      "metadata": {
        "colab": {
          "base_uri": "https://localhost:8080/"
        },
        "id": "fY6rFog2QVoD",
        "outputId": "df23582f-2a92-4103-8043-eb99e01b3fae"
      },
      "execution_count": null,
      "outputs": [
        {
          "output_type": "stream",
          "name": "stdout",
          "text": [
            "['eggs', 'milk']\n"
          ]
        }
      ]
    },
    {
      "cell_type": "code",
      "source": [
        "# add \"cheese\" to our list. Does this change the object in place?\n",
        "grocery.append('cheese')\n",
        "print(grocery)"
      ],
      "metadata": {
        "colab": {
          "base_uri": "https://localhost:8080/"
        },
        "id": "0-AJJMLIQXFd",
        "outputId": "c34571dd-d9f9-4dc2-f7d1-89422ae8716d"
      },
      "execution_count": null,
      "outputs": [
        {
          "output_type": "stream",
          "name": "stdout",
          "text": [
            "['eggs', 'milk', 'cheese']\n"
          ]
        }
      ]
    },
    {
      "cell_type": "code",
      "source": [
        "# Declare a whole number value (it will default to data type int)\n",
        "amount = 6\n",
        "type(amount)"
      ],
      "metadata": {
        "colab": {
          "base_uri": "https://localhost:8080/"
        },
        "id": "kUNitEJWQzLP",
        "outputId": "7d8ca74b-551d-426e-8529-8ec8d5580dff"
      },
      "execution_count": null,
      "outputs": [
        {
          "output_type": "execute_result",
          "data": {
            "text/plain": [
              "int"
            ]
          },
          "metadata": {},
          "execution_count": 57
        }
      ]
    },
    {
      "cell_type": "code",
      "source": [
        "# Recast the amount variable as a float\n",
        "amount = float(amount)\n",
        "type(amount)"
      ],
      "metadata": {
        "colab": {
          "base_uri": "https://localhost:8080/"
        },
        "id": "6x7fdOjcQ1ip",
        "outputId": "5861d745-c142-4be8-f82f-e4c8e5868158"
      },
      "execution_count": null,
      "outputs": [
        {
          "output_type": "execute_result",
          "data": {
            "text/plain": [
              "float"
            ]
          },
          "metadata": {},
          "execution_count": 58
        }
      ]
    },
    {
      "cell_type": "code",
      "source": [
        "# Declare a decimal value (it will default to data type float)\n",
        "value = 23.85\n",
        "type(value)"
      ],
      "metadata": {
        "colab": {
          "base_uri": "https://localhost:8080/"
        },
        "id": "NycQcgEEQ6bj",
        "outputId": "7354003a-c54c-4d2d-db2d-3e8f0765af46"
      },
      "execution_count": null,
      "outputs": [
        {
          "output_type": "execute_result",
          "data": {
            "text/plain": [
              "float"
            ]
          },
          "metadata": {},
          "execution_count": 59
        }
      ]
    },
    {
      "cell_type": "code",
      "source": [
        "# Create a new variable where value has been converted to an int\n",
        "value_int = int(value)\n",
        "type(value_int)"
      ],
      "metadata": {
        "colab": {
          "base_uri": "https://localhost:8080/"
        },
        "id": "CM5OKnxWQ-QJ",
        "outputId": "7b6f1493-24e3-4ce6-ceae-637e841324a6"
      },
      "execution_count": null,
      "outputs": [
        {
          "output_type": "execute_result",
          "data": {
            "text/plain": [
              "int"
            ]
          },
          "metadata": {},
          "execution_count": 60
        }
      ]
    },
    {
      "cell_type": "code",
      "source": [
        "# See how converting to an int has impacted our value\n",
        "print(value_int)"
      ],
      "metadata": {
        "colab": {
          "base_uri": "https://localhost:8080/"
        },
        "id": "HjdPXYQwRBDu",
        "outputId": "d0b3f97a-346d-4c59-b322-7682daa70176"
      },
      "execution_count": null,
      "outputs": [
        {
          "output_type": "stream",
          "name": "stdout",
          "text": [
            "23\n"
          ]
        }
      ]
    },
    {
      "cell_type": "code",
      "source": [
        "value = 23.85\n",
        "rounded_value = round(value)\n",
        "type(rounded_value)\n"
      ],
      "metadata": {
        "colab": {
          "base_uri": "https://localhost:8080/"
        },
        "id": "0LALwxcoRPfi",
        "outputId": "b7efdd0f-0f49-4a9d-a8f3-38e7543c9569"
      },
      "execution_count": null,
      "outputs": [
        {
          "output_type": "execute_result",
          "data": {
            "text/plain": [
              "int"
            ]
          },
          "metadata": {},
          "execution_count": 63
        }
      ]
    },
    {
      "cell_type": "code",
      "source": [
        "class Person:\n",
        "  def __init__(self, name, age):\n",
        "    self.name = name\n",
        "    self.age = age\n",
        "\n",
        "p1 = Person(\"John\", 36)\n",
        "\n",
        "print(p1)"
      ],
      "metadata": {
        "colab": {
          "base_uri": "https://localhost:8080/"
        },
        "id": "7WrEzNXOsHtU",
        "outputId": "bf31f03c-9ea0-4f00-aa44-859945ba8e49"
      },
      "execution_count": null,
      "outputs": [
        {
          "output_type": "stream",
          "name": "stdout",
          "text": [
            "<__main__.Person object at 0x7e95302b0cd0>\n"
          ]
        }
      ]
    },
    {
      "cell_type": "code",
      "source": [
        "class Person:\n",
        "  def __init__(self, name, age):\n",
        "    self.name = name\n",
        "    self.age = age\n",
        "\n",
        "  def __str__(self):\n",
        "    return f\"{self.name}({self.age})\"\n",
        "\n",
        "p1 = Person(\"John\", 36)\n",
        "\n",
        "print(p1)"
      ],
      "metadata": {
        "colab": {
          "base_uri": "https://localhost:8080/"
        },
        "id": "kinfe0EfsYLF",
        "outputId": "b4a1b501-712e-4227-c6bb-90648456d370"
      },
      "execution_count": null,
      "outputs": [
        {
          "output_type": "stream",
          "name": "stdout",
          "text": [
            "John(36)\n"
          ]
        }
      ]
    },
    {
      "cell_type": "code",
      "source": [
        "word_list = ['this', 'is', 'a', 'list', 'of', 'strings']\n",
        "random_list = [12, 'frog', ['this','is','a','list','in','a','list'], True, 3.14]\n",
        "print(word_list)\n",
        "print(random_list)"
      ],
      "metadata": {
        "colab": {
          "base_uri": "https://localhost:8080/"
        },
        "id": "XO4vXTjSzkOW",
        "outputId": "48d18988-ea7d-4233-d0f2-9203100db2e6"
      },
      "execution_count": null,
      "outputs": [
        {
          "output_type": "stream",
          "name": "stdout",
          "text": [
            "['this', 'is', 'a', 'list', 'of', 'strings']\n",
            "[12, 'frog', ['this', 'is', 'a', 'list', 'in', 'a', 'list'], True, 3.14]\n"
          ]
        }
      ]
    },
    {
      "cell_type": "code",
      "source": [
        "word_list.remove('a')\n",
        "print(word_list)"
      ],
      "metadata": {
        "colab": {
          "base_uri": "https://localhost:8080/"
        },
        "id": "NWSalDh3zv7J",
        "outputId": "b9224530-696d-4816-fb3d-c74bd99a54d2"
      },
      "execution_count": null,
      "outputs": [
        {
          "output_type": "stream",
          "name": "stdout",
          "text": [
            "['this', 'is', 'list', 'of', 'strings']\n"
          ]
        }
      ]
    },
    {
      "cell_type": "code",
      "source": [
        "# use .append() to add an item to the word_list\n",
        "word_list.append('cat')\n",
        "print(word_list)"
      ],
      "metadata": {
        "id": "ROVG8iFizzFI",
        "outputId": "fdc54976-4e69-463b-f555-8561349a6670",
        "colab": {
          "base_uri": "https://localhost:8080/"
        }
      },
      "execution_count": null,
      "outputs": [
        {
          "output_type": "stream",
          "name": "stdout",
          "text": [
            "['this', 'is', 'list', 'of', 'strings', 'cat']\n"
          ]
        }
      ]
    },
    {
      "cell_type": "code",
      "source": [
        "# Combine two lists using the + operator\n",
        "word_list + random_list"
      ],
      "metadata": {
        "colab": {
          "base_uri": "https://localhost:8080/"
        },
        "id": "CUGngYfiBl1-",
        "outputId": "76f5453b-13cd-4788-8451-90337254cca3"
      },
      "execution_count": null,
      "outputs": [
        {
          "output_type": "execute_result",
          "data": {
            "text/plain": [
              "['this',\n",
              " 'is',\n",
              " 'list',\n",
              " 'of',\n",
              " 'strings',\n",
              " 'cat',\n",
              " 12,\n",
              " 'frog',\n",
              " ['this', 'is', 'a', 'list', 'in', 'a', 'list'],\n",
              " True,\n",
              " 3.14]"
            ]
          },
          "metadata": {},
          "execution_count": 5
        }
      ]
    },
    {
      "cell_type": "code",
      "source": [
        "# Demo of tuples of the same data type or mixed data types\n",
        "integer_tuple = (1,2,3,4,5)\n",
        "random_tuple = (1, 'horse', integer_tuple, word_list, False)\n",
        "new_list = word_list + random_list\n",
        "new_tuble = random_tuple+integer_tuple\n",
        "print(new_list)\n",
        "print(new_tuble)"
      ],
      "metadata": {
        "colab": {
          "base_uri": "https://localhost:8080/"
        },
        "id": "1E2KDzJMCjxk",
        "outputId": "e8f32106-0883-4acc-e621-c8a2b14d8497"
      },
      "execution_count": null,
      "outputs": [
        {
          "output_type": "stream",
          "name": "stdout",
          "text": [
            "['this', 'is', 'list', 'of', 'strings', 'cat', 12, 'frog', ['this', 'is', 'a', 'list', 'in', 'a', 'list'], True, 3.14]\n",
            "(1, 'horse', (1, 2, 3, 4, 5), ['this', 'is', 'list', 'of', 'strings', 'cat'], False, 1, 2, 3, 4, 5)\n"
          ]
        }
      ]
    },
    {
      "cell_type": "code",
      "source": [
        "# Indexing a range from a tuple\n",
        "print(random_tuple[0:2])"
      ],
      "metadata": {
        "colab": {
          "base_uri": "https://localhost:8080/"
        },
        "id": "_zLHWXLOC96k",
        "outputId": "3b212f9b-04ec-4df3-934f-9a85c4ccdcd2"
      },
      "execution_count": null,
      "outputs": [
        {
          "output_type": "stream",
          "name": "stdout",
          "text": [
            "(1, 'horse')\n"
          ]
        }
      ]
    },
    {
      "cell_type": "code",
      "source": [
        "# Indexing a range from a tuple\n",
        "print(word_list[0:2])"
      ],
      "metadata": {
        "id": "FQtHy8hzDJx0",
        "outputId": "971f6f1c-a89b-49f1-c1eb-2d2566db6b12",
        "colab": {
          "base_uri": "https://localhost:8080/"
        }
      },
      "execution_count": null,
      "outputs": [
        {
          "output_type": "stream",
          "name": "stdout",
          "text": [
            "['this', 'is']\n"
          ]
        }
      ]
    },
    {
      "cell_type": "code",
      "source": [
        "# Create a dictionary of states and capitals\n",
        "state_caps = {'Ohio':'Columbus', 'Alabama':'Montgomery', 'Washington':'Olympia'}\n"
      ],
      "metadata": {
        "id": "aRKsD4_bMfVM"
      },
      "execution_count": null,
      "outputs": []
    },
    {
      "cell_type": "code",
      "source": [
        "# Change the value associated with a key\n",
        "state_caps['Utah'] = 'Salt Lake City'\n",
        "print(state_caps)"
      ],
      "metadata": {
        "colab": {
          "base_uri": "https://localhost:8080/"
        },
        "id": "Pmq7NRHXM1k9",
        "outputId": "b2da674f-bc98-42fb-e6ed-d0f62051fcae"
      },
      "execution_count": null,
      "outputs": [
        {
          "output_type": "stream",
          "name": "stdout",
          "text": [
            "{'Ohio': 'Columbus', 'Alabama': 'Montgomery', 'Washington': 'Olympia', 'Utah': 'Salt Lake City'}\n"
          ]
        }
      ]
    },
    {
      "cell_type": "code",
      "source": [
        "# removing a key value pair from the dict with .pop()\n",
        "state_caps.pop('Ohio')\n",
        "print(f'After popping, the dictionary now looks like this: {state_caps}.')"
      ],
      "metadata": {
        "colab": {
          "base_uri": "https://localhost:8080/"
        },
        "id": "TTRh7T_sMq4C",
        "outputId": "b143d488-e45c-44e2-9438-394d18629ee3"
      },
      "execution_count": null,
      "outputs": [
        {
          "output_type": "stream",
          "name": "stdout",
          "text": [
            "After popping, the dictionary now looks like this: {'Alabama': 'Montgomery', 'Washington': 'Olympia', 'Utah': 'Salt Lake City'}.\n"
          ]
        }
      ]
    },
    {
      "cell_type": "code",
      "source": [
        "# create list of states\n",
        "states_list = ['Indiana', 'Kentucky', 'Texas', 'Idaho']\n",
        "# create list of matching capitals\n",
        "caps_list = ['Indianapolis', 'Frankfort', 'Austin', 'Boise']"
      ],
      "metadata": {
        "id": "dmusOHX5M_5r"
      },
      "execution_count": null,
      "outputs": []
    },
    {
      "cell_type": "code",
      "source": [
        "# combine the two lists into a dict\n",
        "zip_dict = dict(zip(states_list, caps_list))\n",
        "print(f'We created the following dictionary: {zip_dict}')"
      ],
      "metadata": {
        "colab": {
          "base_uri": "https://localhost:8080/"
        },
        "id": "xqMw2SiSONbJ",
        "outputId": "f1511e5c-d65c-4bca-d4dc-1c8a5a47a6ec"
      },
      "execution_count": null,
      "outputs": [
        {
          "output_type": "stream",
          "name": "stdout",
          "text": [
            "We created the following dictionary: {'Indiana': 'Indianapolis', 'Kentucky': 'Frankfort', 'Texas': 'Austin', 'Idaho': 'Boise'}\n"
          ]
        }
      ]
    },
    {
      "cell_type": "code",
      "source": [
        "# Add one dictionary to another\n",
        "state_caps.update(zip_dict)\n",
        "print(state_caps)"
      ],
      "metadata": {
        "colab": {
          "base_uri": "https://localhost:8080/"
        },
        "id": "hgvEmO9_OZvI",
        "outputId": "cf5f33e5-235d-46c7-c595-d2553e5c5a01"
      },
      "execution_count": null,
      "outputs": [
        {
          "output_type": "stream",
          "name": "stdout",
          "text": [
            "{'Alabama': 'Montgomery', 'Washington': 'Olympia', 'Utah': 'Salt Lake City', 'Indiana': 'Indianapolis', 'Kentucky': 'Frankfort', 'Texas': 'Austin', 'Idaho': 'Boise'}\n"
          ]
        }
      ]
    },
    {
      "cell_type": "code",
      "source": [
        "# create list of states\n",
        "states_list_new = ['Indiana', 'Kentucky', 'Texas', 'aho']\n",
        "# create list of matching capitals\n",
        "caps_list_new = ['Indianapolis', 'Frankfort', 'Austin']\n",
        "zip_dict = dict(zip(states_list_new, caps_list_new))\n",
        "print(f'We created the following dictionary: {zip_dict}')"
      ],
      "metadata": {
        "colab": {
          "base_uri": "https://localhost:8080/"
        },
        "id": "B2ugii6dPWOE",
        "outputId": "a8498b5f-c3a5-47aa-8b5b-b241eb2ef255"
      },
      "execution_count": null,
      "outputs": [
        {
          "output_type": "stream",
          "name": "stdout",
          "text": [
            "We created the following dictionary: {'Indiana': 'Indianapolis', 'Kentucky': 'Frankfort', 'Texas': 'Austin'}\n"
          ]
        }
      ]
    },
    {
      "cell_type": "code",
      "source": [
        "# define the list to be iterated on\n",
        "X = [1, 2, 3, 4, 5,]\n",
        "\n",
        "# write a for loop\n",
        "for number in X:\n",
        "  double_number = number*2\n",
        "  print(double_number)"
      ],
      "metadata": {
        "colab": {
          "base_uri": "https://localhost:8080/"
        },
        "id": "PYeca75Jcqur",
        "outputId": "30856b7f-ca5f-4c80-b711-15a263ebce33"
      },
      "execution_count": null,
      "outputs": [
        {
          "output_type": "stream",
          "name": "stdout",
          "text": [
            "2\n",
            "4\n",
            "6\n",
            "8\n",
            "10\n"
          ]
        }
      ]
    },
    {
      "cell_type": "code",
      "source": [
        "# create an empty list to store the new values\n",
        "X_double = []"
      ],
      "metadata": {
        "id": "i7XSnFBggdkF"
      },
      "execution_count": null,
      "outputs": []
    },
    {
      "cell_type": "code",
      "source": [
        "for number in X:\n",
        "  double_number = number*2\n",
        "  X_double.append(double_number)\n",
        "\n",
        "  # print the new list\n",
        "print(X_double)"
      ],
      "metadata": {
        "colab": {
          "base_uri": "https://localhost:8080/"
        },
        "id": "rjgSK9twcs_y",
        "outputId": "157345bc-6f6d-4b04-f518-84a62261482b"
      },
      "execution_count": null,
      "outputs": [
        {
          "output_type": "stream",
          "name": "stdout",
          "text": [
            "[2, 4, 6, 8, 10, 2, 4, 6, 8, 10]\n"
          ]
        }
      ]
    },
    {
      "cell_type": "code",
      "source": [
        "# Initialize variables\n",
        "fahrenheit_temps = [65, 60, 55, 72, 67, 84]\n",
        "celsius_temps = []\n",
        "# Loop over Fahrenheit temps, convert them, and append the result to celsius temps\n",
        "for f_temp in fahrenheit_temps:\n",
        "  # Convert Farhenheit to Celsius\n",
        "  c_temp = (f_temp - 32) * (5/9)\n",
        "  # Round Celsius to 2 decimal places\n",
        "  c_temp = round(c_temp, 2)\n",
        "  # Append Celsius temp to list of Celsius temps\n",
        "  celsius_temps.append(c_temp)\n",
        "print(celsius_temps)"
      ],
      "metadata": {
        "colab": {
          "base_uri": "https://localhost:8080/"
        },
        "id": "UZ0REni5hKZe",
        "outputId": "c5b0d5ab-9204-4714-a39e-f2baa5ef3e52"
      },
      "execution_count": null,
      "outputs": [
        {
          "output_type": "stream",
          "name": "stdout",
          "text": [
            "[18.33, 15.56, 12.78, 22.22, 19.44, 28.89]\n"
          ]
        }
      ]
    },
    {
      "cell_type": "code",
      "source": [
        "# Run this cell to create a dictionary with room type and standard rate\n",
        "standard_dict = {'Basic': 100,\n",
        "              'Deluxe': 125,\n",
        "              'Balcony' : 200,\n",
        "              'Luxury' : 250}\n",
        "standard_dict"
      ],
      "metadata": {
        "colab": {
          "base_uri": "https://localhost:8080/"
        },
        "id": "FwO3SeeZi0gk",
        "outputId": "398629ad-6dc7-48cf-8c45-37f1bad45e9a"
      },
      "execution_count": null,
      "outputs": [
        {
          "output_type": "execute_result",
          "data": {
            "text/plain": [
              "{'Basic': 100, 'Deluxe': 125, 'Balcony': 200, 'Luxury': 250}"
            ]
          },
          "metadata": {},
          "execution_count": 30
        }
      ]
    },
    {
      "cell_type": "code",
      "source": [
        "# Loop through the dictionary to print \"___ rooms are available!\"\n",
        "for key in standard_dict:\n",
        "  print(f'{key} rooms are available!')"
      ],
      "metadata": {
        "colab": {
          "base_uri": "https://localhost:8080/"
        },
        "id": "DpJ5N_Bdi2Pz",
        "outputId": "e6f5a957-d873-4860-f51f-e6ac7a7940c7"
      },
      "execution_count": null,
      "outputs": [
        {
          "output_type": "stream",
          "name": "stdout",
          "text": [
            "Basic rooms are available!\n",
            "Deluxe rooms are available!\n",
            "Balcony rooms are available!\n",
            "Luxury rooms are available!\n"
          ]
        }
      ]
    },
    {
      "cell_type": "code",
      "source": [
        "# Loop through the dictionary to print \"___ rooms are available!\"\n",
        "for room_type in standard_dict:\n",
        "  print(f'{room_type} rooms are available!')"
      ],
      "metadata": {
        "colab": {
          "base_uri": "https://localhost:8080/"
        },
        "id": "YHkLbM5Wi3bo",
        "outputId": "ded5633e-9dcf-46ac-81c3-84864fd2b9c1"
      },
      "execution_count": null,
      "outputs": [
        {
          "output_type": "stream",
          "name": "stdout",
          "text": [
            "Basic rooms are available!\n",
            "Deluxe rooms are available!\n",
            "Balcony rooms are available!\n",
            "Luxury rooms are available!\n"
          ]
        }
      ]
    },
    {
      "cell_type": "code",
      "source": [
        "# use a for loop to print \"__ rooms are available for only $__ a night.\"\n",
        "for key, value in standard_dict.items():\n",
        "  print(f'{key} rooms are available for only ${value} a night.')"
      ],
      "metadata": {
        "colab": {
          "base_uri": "https://localhost:8080/"
        },
        "id": "blWDRuK6jN9v",
        "outputId": "a38ea9c8-3e59-427a-b849-3ecba9364ac9"
      },
      "execution_count": null,
      "outputs": [
        {
          "output_type": "stream",
          "name": "stdout",
          "text": [
            "Basic rooms are available for only $100 a night.\n",
            "Deluxe rooms are available for only $125 a night.\n",
            "Balcony rooms are available for only $200 a night.\n",
            "Luxury rooms are available for only $250 a night.\n"
          ]
        }
      ]
    },
    {
      "cell_type": "code",
      "source": [
        "# redefine a\n",
        "a = 30\n",
        "b = 20\n",
        "# example of an if and else statement\n",
        "if a < b:\n",
        "  print('a is less than b')\n",
        "else:\n",
        "  print('a is not less than b')"
      ],
      "metadata": {
        "colab": {
          "base_uri": "https://localhost:8080/"
        },
        "id": "Wq0zS67qytab",
        "outputId": "c10e1315-1fc5-41ca-856a-84908eb13d4f"
      },
      "execution_count": null,
      "outputs": [
        {
          "output_type": "stream",
          "name": "stdout",
          "text": [
            "a is not less than b\n"
          ]
        }
      ]
    },
    {
      "cell_type": "code",
      "source": [
        "# example of an if/elif/else statement\n",
        "if a < b:\n",
        "  print('a is less than b')\n",
        "elif a == b:\n",
        "  print('a is equal to b')\n",
        "else:\n",
        "  print('a is greater than b')"
      ],
      "metadata": {
        "colab": {
          "base_uri": "https://localhost:8080/"
        },
        "id": "vXaCcqFgy-zq",
        "outputId": "f833ae72-b36c-4bb7-efd7-9984453bcae8"
      },
      "execution_count": null,
      "outputs": [
        {
          "output_type": "stream",
          "name": "stdout",
          "text": [
            "a is greater than b\n"
          ]
        }
      ]
    },
    {
      "cell_type": "code",
      "source": [
        "age = 17\n",
        "provisional = True\n",
        "# nested conditions for driving eligibility\n",
        "if age < 16:\n",
        "  print('You are too young to drive')\n",
        "elif age >= 18:\n",
        "  print('You are eligible to drive without a provisional license')\n",
        "else:\n",
        "  if provisional == True:\n",
        "    print('You are eligible to drive with your provisional license')\n",
        "  else:\n",
        "    print('You need a provisional license to be eligible to drive')"
      ],
      "metadata": {
        "colab": {
          "base_uri": "https://localhost:8080/"
        },
        "id": "BS1Qv9t75df5",
        "outputId": "91a72674-3eb5-4bc1-e463-8da9c2ed8e85"
      },
      "execution_count": null,
      "outputs": [
        {
          "output_type": "stream",
          "name": "stdout",
          "text": [
            "You are eligible to drive with your provisional license\n"
          ]
        }
      ]
    },
    {
      "cell_type": "code",
      "source": [
        "# write condition to evaluate if a number is BOTH greater than 10 AND odd\n",
        "num = 13\n",
        "if (num > 10) & (num % 2 != 0):\n",
        "  print('number is greater than 10 and odd')\n",
        "\n"
      ],
      "metadata": {
        "colab": {
          "base_uri": "https://localhost:8080/"
        },
        "id": "ckStqBNa5iQ7",
        "outputId": "0365a5a2-6721-4f06-fca6-3faae76e681f"
      },
      "execution_count": null,
      "outputs": [
        {
          "output_type": "stream",
          "name": "stdout",
          "text": [
            "number is greater than 10 and odd\n"
          ]
        }
      ]
    },
    {
      "cell_type": "code",
      "source": [
        "# write condition to evaluate if a number is BOTH greater than 10 AND odd\n",
        "num = 12\n",
        "if (num > 10) & (num % 2 != 0):\n",
        "  print('number is greater than 10 and odd')\n",
        "elif (num > 10):\n",
        "  print('number is greater than 10 and even')\n",
        "elif (num % 2 != 0):\n",
        "  print('number is less than or equal to ten and odd')\n",
        "else:\n",
        "  print('number is less than ten and even')"
      ],
      "metadata": {
        "colab": {
          "base_uri": "https://localhost:8080/"
        },
        "id": "HCwq3S4V9ns0",
        "outputId": "947181cc-3fed-4c89-b78e-e907b98e66f7"
      },
      "execution_count": null,
      "outputs": [
        {
          "output_type": "stream",
          "name": "stdout",
          "text": [
            "number is greater than 10 and even\n"
          ]
        }
      ]
    }
  ]
}