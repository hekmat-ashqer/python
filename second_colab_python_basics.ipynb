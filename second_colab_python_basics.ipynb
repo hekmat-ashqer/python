{
  "nbformat": 4,
  "nbformat_minor": 0,
  "metadata": {
    "colab": {
      "provenance": [],
      "authorship_tag": "ABX9TyNIuSv4OyyP3p4jz7lGY6Oa",
      "include_colab_link": true
    },
    "kernelspec": {
      "name": "python3",
      "display_name": "Python 3"
    },
    "language_info": {
      "name": "python"
    }
  },
  "cells": [
    {
      "cell_type": "markdown",
      "metadata": {
        "id": "view-in-github",
        "colab_type": "text"
      },
      "source": [
        "<a href=\"https://colab.research.google.com/github/hekmat-ashqer/python/blob/main/second_colab_python_basics.ipynb\" target=\"_parent\"><img src=\"https://colab.research.google.com/assets/colab-badge.svg\" alt=\"Open In Colab\"/></a>"
      ]
    },
    {
      "cell_type": "code",
      "execution_count": null,
      "metadata": {
        "id": "eu8vR8hBdmkq"
      },
      "outputs": [],
      "source": [
        "# define a custom function to subtract one value from another\n",
        "def return_difference(a, b):\n",
        "  return a - b"
      ]
    },
    {
      "cell_type": "code",
      "source": [
        "# call our custom function\n",
        "return_difference(8, 3)"
      ],
      "metadata": {
        "colab": {
          "base_uri": "https://localhost:8080/"
        },
        "id": "8uGKSAXifXMU",
        "outputId": "970061d7-6623-4f8d-bc79-aaefffbdea8b"
      },
      "execution_count": null,
      "outputs": [
        {
          "output_type": "execute_result",
          "data": {
            "text/plain": [
              "5"
            ]
          },
          "metadata": {},
          "execution_count": 2
        }
      ]
    },
    {
      "cell_type": "code",
      "source": [
        "# Define variables\n",
        "cars = 30\n",
        "trucks = 10\n",
        "return_difference(cars, trucks)\n",
        "\n",
        "\n",
        "# define a variable based on the return of our custom function\n",
        "c = return_difference(cars, trucks)\n",
        "c"
      ],
      "metadata": {
        "colab": {
          "base_uri": "https://localhost:8080/"
        },
        "id": "RuwPTBZ9f8s_",
        "outputId": "b6f7f8ff-9a03-4a5a-d09b-9771beb15ae1"
      },
      "execution_count": null,
      "outputs": [
        {
          "output_type": "execute_result",
          "data": {
            "text/plain": [
              "20"
            ]
          },
          "metadata": {},
          "execution_count": 4
        }
      ]
    },
    {
      "cell_type": "code",
      "source": [
        "# Custom function to calculate celsius from fahrenheit with return statement\n",
        "def convert_f_to_c(f_temp):\n",
        "  # Convert Farhenheit to Celsius\n",
        "  global c_temp\n",
        "\n",
        "  c_temp = (f_temp - 32) * (5/9)\n",
        "  # Round Celsius to 2 decimal places\n",
        "  c_temp = round(c_temp, 2)\n",
        "  return c_temp\n",
        "\n",
        "# Test the function with no return statement\n",
        "x = convert_f_to_c(50)\n",
        "print(c_temp)"
      ],
      "metadata": {
        "colab": {
          "base_uri": "https://localhost:8080/"
        },
        "id": "gOKftidngxrz",
        "outputId": "82f2b8e0-b88f-4ea5-ad38-1195202b2727"
      },
      "execution_count": null,
      "outputs": [
        {
          "output_type": "stream",
          "name": "stdout",
          "text": [
            "10.0\n"
          ]
        }
      ]
    },
    {
      "cell_type": "code",
      "source": [
        "# define a list of temperatures\n",
        "week_1 = [45, 55, 49, 60, 52, 55, 58]\n",
        "\n",
        "# Define a function to print the minimum temperature\n",
        "def extremes(temps,decision='minimum'):\n",
        "  if(decision==\"minimum\"):\n",
        "    min_temp = min(temps)\n",
        "    print(f'The minimum temperature was {min_temp}.')\n",
        "  elif (decision==\"maximum\"):\n",
        "    max_temp = max(temps)\n",
        "    print(f'The maximum temperature was {max_temp}.')\n",
        "  else:\n",
        "    print(f' you should select ')\n",
        "  # Test our function\n",
        "extremes(week_1)"
      ],
      "metadata": {
        "colab": {
          "base_uri": "https://localhost:8080/"
        },
        "id": "kBcUlsGq0h7V",
        "outputId": "73c9e28c-8fda-4e1f-ffbf-13d79d7fbc8b"
      },
      "execution_count": null,
      "outputs": [
        {
          "output_type": "stream",
          "name": "stdout",
          "text": [
            "The minimum temperature was 45.\n"
          ]
        }
      ]
    },
    {
      "cell_type": "code",
      "source": [
        "# This will result in a syntax error\n",
        "print(hello')"
      ],
      "metadata": {
        "colab": {
          "base_uri": "https://localhost:8080/",
          "height": 141
        },
        "id": "Sgduo-F9JStS",
        "outputId": "912d2057-51c7-4c6f-818d-cf2fb3b548a6"
      },
      "execution_count": null,
      "outputs": [
        {
          "output_type": "error",
          "ename": "SyntaxError",
          "evalue": "unterminated string literal (detected at line 2) (<ipython-input-21-0cc87a5f2eae>, line 2)",
          "traceback": [
            "\u001b[0;36m  File \u001b[0;32m\"<ipython-input-21-0cc87a5f2eae>\"\u001b[0;36m, line \u001b[0;32m2\u001b[0m\n\u001b[0;31m    print(hello')\u001b[0m\n\u001b[0m               ^\u001b[0m\n\u001b[0;31mSyntaxError\u001b[0m\u001b[0;31m:\u001b[0m unterminated string literal (detected at line 2)\n"
          ]
        }
      ]
    },
    {
      "cell_type": "code",
      "source": [
        "list_of_customers = ['Bradley', 'Miranda', 'Tarik', 'Corinne']\n",
        "customer_purchases = [3, 5, 1]\n",
        "\n",
        "\n",
        "# instantiate a new dictionary\n",
        "customer_lookup = {}\n",
        "# iterate through the list of customers\n",
        "\n",
        "print(f'count of list customer_purchases{len(customer_purchases)}')\n",
        "print(f'count of list list_of_customers{len(list_of_customers)}')\n",
        "# check contents of each list\n",
        "print(f'Our customer list is {list_of_customers}.')\n",
        "print(f'Our customer purchases list is {customer_purchases}.')\n",
        "\n",
        "for i in range(len(list_of_customers)):\n",
        "  print(f'value of i: {i}')\n",
        "  # create a new key for the customer name and set the value to the number of purchases\n",
        "  name = list_of_customers[i]\n",
        "  customer_lookup[name] = customer_purchases[i]\n",
        "  print(f'successfully added item: {i}')\n",
        "\n"
      ],
      "metadata": {
        "id": "92PSxpqDJ3T0"
      },
      "execution_count": null,
      "outputs": []
    },
    {
      "cell_type": "code",
      "source": [
        "# instantiate a new dictionary\n",
        "list_of_customers = ['Bradley', 'Miranda', 'Tarik', 'Corinne']\n",
        "customer_purchases = [3, 5, 1]\n",
        "customer_purchases.insert(1, 7)\n",
        "\n",
        "customer_lookup = {}\n",
        "# iterate through the list of customers\n",
        "for i in range(len(list_of_customers)):\n",
        "  # create a new key for the customer name and set the value to the number of purchases\n",
        "  name = list_of_customers[i]\n",
        "  customer_lookup[name] = customer_purchases[i]\n",
        "print(customer_lookup)"
      ],
      "metadata": {
        "colab": {
          "base_uri": "https://localhost:8080/"
        },
        "id": "vV3Lf2fgf-ZU",
        "outputId": "7091fbe9-1e91-4971-ba0e-5d9e19b08def"
      },
      "execution_count": null,
      "outputs": [
        {
          "output_type": "stream",
          "name": "stdout",
          "text": [
            "{'Bradley': 3, 'Miranda': 7, 'Tarik': 5, 'Corinne': 1}\n"
          ]
        }
      ]
    },
    {
      "cell_type": "markdown",
      "source": [],
      "metadata": {
        "id": "FQy9Tjc2tTRz"
      }
    },
    {
      "cell_type": "code",
      "source": [
        "# Find and correct the error\n",
        "def Physics_Welcome_Message(name, id):\n",
        "  print(\"Hello \" + name + \"! Welcome to your Physics class. Your id is \" + id + \". We know you will rock.\")"
      ],
      "metadata": {
        "id": "p5kYEwhgPOH6"
      },
      "execution_count": null,
      "outputs": []
    },
    {
      "cell_type": "markdown",
      "source": [
        "Custom Functions\n",
        "\n",
        "\n",
        "---\n",
        "\n"
      ],
      "metadata": {
        "id": "4aJISi8FtOU8"
      }
    },
    {
      "cell_type": "code",
      "source": [
        "# Lists of Fahrenheit temps\n",
        "week_1 = [45, 55, 49, 60, 52, 55, 58]\n",
        "week_2 = [51, 49, 62, 50, 53, 56, 59]\n",
        "week_3 = [60, 60, 61, 62, 57, 59, 58]\n",
        "week_4 = [59, 63, 62, 61, 65, 66, 62]"
      ],
      "metadata": {
        "id": "ivW5Q5Lbs_6o"
      },
      "execution_count": null,
      "outputs": []
    },
    {
      "cell_type": "code",
      "source": [
        "# List of Celsius temps\n",
        "week_5_celsius = [15, 16, 14, 19, 17, 17, 16 ]"
      ],
      "metadata": {
        "id": "dLiQl0FLtACa"
      },
      "execution_count": null,
      "outputs": []
    },
    {
      "cell_type": "code",
      "source": [
        "# Custom function to calculate celsius from fahrenheit\n",
        "def convert_f_to_c(f_temp):\n",
        "  # Convert Farhenheit to Celsius\n",
        "  c_temp = (f_temp - 32) * (5/9)\n",
        "  # Round Celsius to 2 decimal places\n",
        "  c_temp = round(c_temp, 2)\n",
        "  return c_temp"
      ],
      "metadata": {
        "id": "0-bMo_lqsuzR"
      },
      "execution_count": null,
      "outputs": []
    },
    {
      "cell_type": "code",
      "source": [
        "# Testing the loop for creating list of Celsisus temps\n",
        "celsius_temps = []\n",
        "for f_temp in week_1:\n",
        "  # Insert your new Fahrenheit to Celsius Fuction here\n",
        "  c_temp = convert_f_to_c(f_temp)\n",
        "  #Append Celsius temp to list of Celsius temps\n",
        "  celsius_temps.append(c_temp)\n",
        "print(f'The temperatures in Celsius are: {celsius_temps}')\n"
      ],
      "metadata": {
        "colab": {
          "base_uri": "https://localhost:8080/"
        },
        "id": "2IbnbEt-tGR-",
        "outputId": "e5bd9faf-691e-4e28-9d34-5514e77058f7"
      },
      "execution_count": null,
      "outputs": [
        {
          "output_type": "stream",
          "name": "stdout",
          "text": [
            "The temperatures in Celsius are: [7.22, 12.78, 9.44, 15.56, 11.11, 12.78, 14.44]\n"
          ]
        }
      ]
    },
    {
      "cell_type": "code",
      "source": [
        "# Let's add a modified version of this for loop to our function\n",
        "def report(temps):\n",
        "  # Initate empty list for Celsius values\n",
        "  celsius_temps = []\n",
        "  # Loop through temps, convert, and add to celsius_temps list\n",
        "  for f_temp in temps:\n",
        "    c_temp = convert_f_to_c(f_temp)\n",
        "    celsius_temps.append(c_temp)\n",
        "  print(f'The temperatures in Celsius are: {celsius_temps}')"
      ],
      "metadata": {
        "id": "s-fnfWkMtq0u"
      },
      "execution_count": null,
      "outputs": []
    },
    {
      "cell_type": "code",
      "source": [
        "# Testing the function\n",
        "report(week_1)"
      ],
      "metadata": {
        "colab": {
          "base_uri": "https://localhost:8080/"
        },
        "id": "j792LcyZtxZe",
        "outputId": "9f5e7425-6875-46db-c0b2-55c061c478eb"
      },
      "execution_count": null,
      "outputs": [
        {
          "output_type": "stream",
          "name": "stdout",
          "text": [
            "The temperatures in Celsius are: [7.22, 12.78, 9.44, 15.56, 11.11, 12.78, 14.44]\n"
          ]
        }
      ]
    },
    {
      "cell_type": "code",
      "source": [
        "# Defining extreme function from prevous lesson\n",
        "def extremes(temps, direction = 'minimum'):\n",
        "  if direction == 'minimum':\n",
        "    min_temp = min(temps)\n",
        "    print(f'The minimum temperature was {min_temp}.')\n",
        "  elif direction == 'maximum':\n",
        "    max_temp = max(temps)\n",
        "    print(f'The maximum temperature was {max_temp}.')\n",
        "  else:\n",
        "    print('The second argument defaults to \"minimum\"  or can be \"maximum\".')"
      ],
      "metadata": {
        "id": "bmKNhmzjt4eA"
      },
      "execution_count": null,
      "outputs": []
    },
    {
      "cell_type": "code",
      "source": [
        "# Add the extremes helper function\n",
        "def report(temps):\n",
        "  # Initialize list for celsius values\n",
        "  celsius_temps = []\n",
        "  # Loop through temps, convert, and add to celsius_temps list\n",
        "  for f_temp in temps:\n",
        "    c_temp = convert_f_to_c(f_temp)\n",
        "    celsius_temps.append(c_temp)\n",
        "  # Use extremes() function to output the 'minimum'\n",
        "  extremes(celsius_temps, direction = 'minimum')"
      ],
      "metadata": {
        "id": "rnG-pbdLuDml"
      },
      "execution_count": null,
      "outputs": []
    },
    {
      "cell_type": "code",
      "source": [
        "# Testing the report function\n",
        "report(week_1)"
      ],
      "metadata": {
        "colab": {
          "base_uri": "https://localhost:8080/"
        },
        "id": "m3Yr9OaUuK8H",
        "outputId": "29919b06-cbee-4179-c0e4-fb78a703f541"
      },
      "execution_count": null,
      "outputs": [
        {
          "output_type": "stream",
          "name": "stdout",
          "text": [
            "The minimum temperature was 7.22.\n"
          ]
        }
      ]
    },
    {
      "cell_type": "code",
      "source": [
        "# Add the option to convert or not with default of convert = True\n",
        "# Add conditional statements\n",
        "def report(temps,convert = True):\n",
        "  # Initialize list for celsius values\n",
        "  celsius_temps = []\n",
        "  # Perform the conversion if needed\n",
        "  if convert == True:\n",
        "    for f_temp in temps:\n",
        "      c_temp = convert_f_to_c(f_temp)\n",
        "      celsius_temps.append(c_temp)\n",
        "  # If conversion is not needed, just fill in the celsius_temps with the given values\n",
        "  elif convert == False:\n",
        "    celsius_temps = temps\n",
        "  else:\n",
        "    print('Convert defaults to True or can be False')\n",
        "    return\n",
        "  # Use extremes function to print the minimum\n",
        "  extremes(celsius_temps, direction= 'minimum')\n",
        "  # Use extremes function to print the maximum\n",
        "  extremes(celsius_temps, direction = 'maximum')"
      ],
      "metadata": {
        "id": "crljKaP1ugHQ"
      },
      "execution_count": null,
      "outputs": []
    },
    {
      "cell_type": "code",
      "source": [
        "# Test default for convert\n",
        "report(week_1)\n",
        "print('week_1 \\n')\n",
        "\n",
        "# Test convert = False with Celsius data\n",
        "report(week_5_celsius, convert = False)\n",
        "print('week_5_celsius \\n')\n",
        "\n",
        "# Using function once it is written\n",
        "report(week_2)\n",
        "print('week_2 \\n')\n",
        "# Using function once it is written\n",
        "report(week_3)\n",
        "print('week_3 \\n')\n",
        "# Using function once it is written\n",
        "report(week_4)\n",
        "print('week_4 \\n')\n"
      ],
      "metadata": {
        "colab": {
          "base_uri": "https://localhost:8080/"
        },
        "id": "5tvtClvbu5I7",
        "outputId": "541e04ac-9ece-4b15-93eb-16f2a41002bb"
      },
      "execution_count": null,
      "outputs": [
        {
          "output_type": "stream",
          "name": "stdout",
          "text": [
            "The minimum temperature was 7.22.\n",
            "The maximum temperature was 15.56.\n",
            "week_1 \n",
            "\n",
            "The minimum temperature was 14.\n",
            "The maximum temperature was 19.\n",
            "week_5_celsius \n",
            "\n",
            "The minimum temperature was 9.44.\n",
            "The maximum temperature was 16.67.\n",
            "week_2 \n",
            "\n",
            "The minimum temperature was 13.89.\n",
            "The maximum temperature was 16.67.\n",
            "week_3 \n",
            "\n",
            "The minimum temperature was 15.0.\n",
            "The maximum temperature was 18.89.\n",
            "week_4 \n",
            "\n"
          ]
        }
      ]
    },
    {
      "cell_type": "code",
      "source": [
        "def calc_mean(week_1, verbose = False):\n",
        "  # Calculate the numerator (sum)\n",
        "  # Start with a total of 0\n",
        "  total = 0\n",
        "  # Add each temp to total in a loop\n",
        "  for temp in week_1:\n",
        "    total = total + temp\n",
        "  N = len(week_1)\n",
        "  mean = total/N\n",
        "  mean = round(mean,2)\n",
        "  if verbose==True:\n",
        "    print(f'The mean temperature was {mean}.')\n",
        "  else:\n",
        "    return mean"
      ],
      "metadata": {
        "id": "oylKtW4G-ubN"
      },
      "execution_count": null,
      "outputs": []
    },
    {
      "cell_type": "code",
      "source": [
        "# The other weeks of temp data from last lesosn\n",
        "week_2 =  [51, 49, 62, 50, 53, 56, 59]\n",
        "week_3 = [60, 60, 61, 62, 57, 59, 58]\n",
        "week_4 = [59, 63, 62, 61, 65, 66, 62]\n",
        "\n",
        "\n",
        "calc_mean(week_2,True)\n",
        "calc_mean(week_3,True)\n",
        "calc_mean(week_4,True)\n"
      ],
      "metadata": {
        "colab": {
          "base_uri": "https://localhost:8080/"
        },
        "id": "KpBK29L5BWqB",
        "outputId": "8e6afd3b-c657-4412-fba3-81abaaccea4c"
      },
      "execution_count": null,
      "outputs": [
        {
          "output_type": "stream",
          "name": "stdout",
          "text": [
            "The mean temperature was 54.29.\n",
            "The mean temperature was 59.57.\n",
            "The mean temperature was 62.57.\n"
          ]
        }
      ]
    },
    {
      "cell_type": "code",
      "source": [
        "# this imports the numpy library\n",
        "import numpy as np"
      ],
      "metadata": {
        "id": "cQ1LrQ9xJjsa"
      },
      "execution_count": null,
      "outputs": []
    },
    {
      "cell_type": "code",
      "source": [
        "np.mean([1,2,3])\n",
        "from numpy import mean\n"
      ],
      "metadata": {
        "id": "7nd-vgRVJ-Tw"
      },
      "execution_count": null,
      "outputs": []
    },
    {
      "cell_type": "code",
      "source": [
        "# Our data from the custom functions lessons:\n",
        "week_1 = [45, 55, 49, 60, 52, 55, 58]\n",
        "week_2 = [51, 49, 62, 50, 53, 56, 59]\n",
        "week_3 = [60, 60, 61, 62, 57, 59, 58]\n",
        "week_4 = [59, 63, 62, 61, 65, 66, 62]"
      ],
      "metadata": {
        "id": "Z4wYQL_TMGVi"
      },
      "execution_count": null,
      "outputs": []
    },
    {
      "cell_type": "code",
      "source": [
        "# use numpy mean function\n",
        "np.mean(week_1)"
      ],
      "metadata": {
        "colab": {
          "base_uri": "https://localhost:8080/"
        },
        "id": "BPcmx5OfMKRm",
        "outputId": "8b5ff996-93cc-4c35-f5e4-0206c408517e"
      },
      "execution_count": null,
      "outputs": [
        {
          "output_type": "execute_result",
          "data": {
            "text/plain": [
              "53.42857142857143"
            ]
          },
          "metadata": {},
          "execution_count": 17
        }
      ]
    },
    {
      "cell_type": "code",
      "source": [
        "# use numpy median function\n",
        "np.median(week_1)"
      ],
      "metadata": {
        "colab": {
          "base_uri": "https://localhost:8080/"
        },
        "id": "d2InsUnCMQwh",
        "outputId": "046551c9-dd87-4c46-9fa9-7968d4f0af0e"
      },
      "execution_count": null,
      "outputs": [
        {
          "output_type": "execute_result",
          "data": {
            "text/plain": [
              "55.0"
            ]
          },
          "metadata": {},
          "execution_count": 24
        }
      ]
    },
    {
      "cell_type": "code",
      "source": [
        "print(week_1)"
      ],
      "metadata": {
        "colab": {
          "base_uri": "https://localhost:8080/"
        },
        "id": "KxYtNwv_MT9f",
        "outputId": "9216a97f-d752-40cb-9603-3edf3d37606a"
      },
      "execution_count": null,
      "outputs": [
        {
          "output_type": "stream",
          "name": "stdout",
          "text": [
            "[45, 49, 52, 55, 55, 58, 60]\n"
          ]
        }
      ]
    },
    {
      "cell_type": "code",
      "source": [
        "from statistics import mode\n",
        "# use mode function\n",
        "mode(week_1)"
      ],
      "metadata": {
        "id": "NHJN6yU6M4Jt",
        "outputId": "be740792-ebef-4d05-d083-8d2fc6751f40",
        "colab": {
          "base_uri": "https://localhost:8080/"
        }
      },
      "execution_count": null,
      "outputs": [
        {
          "output_type": "execute_result",
          "data": {
            "text/plain": [
              "55"
            ]
          },
          "metadata": {},
          "execution_count": 25
        }
      ]
    }
  ]
}