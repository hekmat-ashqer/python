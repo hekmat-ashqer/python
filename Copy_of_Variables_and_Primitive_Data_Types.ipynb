{
  "nbformat": 4,
  "nbformat_minor": 0,
  "metadata": {
    "colab": {
      "provenance": []
    },
    "kernelspec": {
      "name": "python3",
      "display_name": "Python 3"
    },
    "language_info": {
      "name": "python"
    }
  },
  "cells": [
    {
      "cell_type": "markdown",
      "source": [
        "# Variables and Primitive Data Types Practice"
      ],
      "metadata": {
        "id": "zy9NuR2fuGeT"
      }
    },
    {
      "cell_type": "markdown",
      "source": [
        "# Task 0\n",
        "Print the string 'Hello World!'"
      ],
      "metadata": {
        "id": "uyujPC7qRJlm"
      }
    },
    {
      "cell_type": "code",
      "source": [
        "# your code here\n",
        "print('Hello World!')"
      ],
      "metadata": {
        "id": "dtKQsi98RbQf",
        "colab": {
          "base_uri": "https://localhost:8080/"
        },
        "outputId": "155998ed-4e98-4888-d636-5bcc4025c5d6"
      },
      "execution_count": 2,
      "outputs": [
        {
          "output_type": "stream",
          "name": "stdout",
          "text": [
            "Hello World!\n"
          ]
        }
      ]
    },
    {
      "cell_type": "markdown",
      "source": [
        "## Task 1a\n",
        "\n",
        "Define a variable **distance** that points to 140.\n",
        "\n",
        "Define a variable **time** that points to 3.\n",
        "\n",
        "Define a variable **speed** that points to the calculation for the speed. Be sure to use the variables names in your calculation. (Speed = distance/time)  \n",
        "\n",
        "Print the speed using print(speed)"
      ],
      "metadata": {
        "id": "iHQFHZyXuM0k"
      }
    },
    {
      "cell_type": "code",
      "execution_count": 3,
      "metadata": {
        "id": "LlQ8wB57t9n0",
        "colab": {
          "base_uri": "https://localhost:8080/"
        },
        "outputId": "a8e08e92-6aa8-4bef-d637-86623405fcf5"
      },
      "outputs": [
        {
          "output_type": "stream",
          "name": "stdout",
          "text": [
            "46.666666666666664\n"
          ]
        }
      ],
      "source": [
        "# your code here\n",
        "# task 1a\n",
        "distance = 140\n",
        "time = 3\n",
        "speed = distance/time\n",
        "print(speed)\n"
      ]
    },
    {
      "cell_type": "markdown",
      "source": [
        "#Task 1b\n",
        "Build on your previous code.\n",
        "\n",
        "Instead of just printing speed, print an f statement that says:\n",
        "\n",
        "If it takes __ hours to travel __ miles, the speed is __ miles per hour.  \n",
        "\n",
        "Fill in the blanks with the appropriate variables."
      ],
      "metadata": {
        "id": "h7juifK_vMXb"
      }
    },
    {
      "cell_type": "code",
      "source": [
        "# your code here\n",
        "#based on task 1a this is task 1b\n",
        "statement = f'If it takes {time} hours to travel {distance} miles, the speed is  {speed} miles per hour.'\n",
        "print(statement)"
      ],
      "metadata": {
        "id": "dt_bJZCovkvP",
        "colab": {
          "base_uri": "https://localhost:8080/"
        },
        "outputId": "8533b980-4cac-4ac3-f94e-c7fb4433210a"
      },
      "execution_count": 5,
      "outputs": [
        {
          "output_type": "stream",
          "name": "stdout",
          "text": [
            "If it takes 3 hours to travel 140 miles, the speed is  46.666666666666664 miles per hour.\n"
          ]
        }
      ]
    },
    {
      "cell_type": "markdown",
      "source": [
        "# Task 1c\n",
        "Check the data type of all three of your variables"
      ],
      "metadata": {
        "id": "KOy7i12dwjkE"
      }
    },
    {
      "cell_type": "code",
      "source": [
        "# your code here\n",
        "#Task 1c\n",
        "type(distance)"
      ],
      "metadata": {
        "id": "QdUNyzrAxHiD",
        "colab": {
          "base_uri": "https://localhost:8080/"
        },
        "outputId": "f9259f55-359b-4041-ff39-d48b68cf7f6f"
      },
      "execution_count": 6,
      "outputs": [
        {
          "output_type": "execute_result",
          "data": {
            "text/plain": [
              "int"
            ]
          },
          "metadata": {},
          "execution_count": 6
        }
      ]
    },
    {
      "cell_type": "code",
      "source": [
        "# your code here\n",
        "#Task 1c\n",
        "type(time)"
      ],
      "metadata": {
        "id": "aAOB3_Q6xSYs",
        "colab": {
          "base_uri": "https://localhost:8080/"
        },
        "outputId": "72819417-efc0-4c54-c655-19f8d7683ce2"
      },
      "execution_count": 7,
      "outputs": [
        {
          "output_type": "execute_result",
          "data": {
            "text/plain": [
              "int"
            ]
          },
          "metadata": {},
          "execution_count": 7
        }
      ]
    },
    {
      "cell_type": "code",
      "source": [
        "# your code here\n",
        "#Task 1c\n",
        "type(speed)"
      ],
      "metadata": {
        "id": "_U8xxGQbxU19",
        "colab": {
          "base_uri": "https://localhost:8080/"
        },
        "outputId": "9935b49e-54f4-4541-a598-67cbdda866e9"
      },
      "execution_count": 8,
      "outputs": [
        {
          "output_type": "execute_result",
          "data": {
            "text/plain": [
              "float"
            ]
          },
          "metadata": {},
          "execution_count": 8
        }
      ]
    },
    {
      "cell_type": "markdown",
      "source": [
        "# Task 1d\n",
        "Change the data type of time from integer to float.\n",
        "\n",
        "Recheck the data type to confirm it is a float."
      ],
      "metadata": {
        "id": "OFz65OX-xcHa"
      }
    },
    {
      "cell_type": "code",
      "source": [
        "# your code here\n",
        "# task 1d\n",
        "time = float(time)\n",
        "type(time)"
      ],
      "metadata": {
        "id": "RxodwaNpxaQm",
        "colab": {
          "base_uri": "https://localhost:8080/"
        },
        "outputId": "6b078670-0ecb-4567-ac94-a12d5aa2cf9d"
      },
      "execution_count": 9,
      "outputs": [
        {
          "output_type": "execute_result",
          "data": {
            "text/plain": [
              "float"
            ]
          },
          "metadata": {},
          "execution_count": 9
        }
      ]
    },
    {
      "cell_type": "markdown",
      "source": [
        "# Task 2a\n",
        "Define a variable **customer** that points to a string with the customer's name, Charlene.\n",
        "\n",
        "Print the customer's name using print(customer)"
      ],
      "metadata": {
        "id": "XHbK5vGrycvU"
      }
    },
    {
      "cell_type": "code",
      "source": [
        "# your code here\n",
        "#Task 2a\n",
        "customer = \"Charlene\"\n",
        "print(customer)\n"
      ],
      "metadata": {
        "id": "NW5j7WZ_y604",
        "colab": {
          "base_uri": "https://localhost:8080/"
        },
        "outputId": "c105fa62-e213-4458-c3f5-c857080dfbe0"
      },
      "execution_count": 10,
      "outputs": [
        {
          "output_type": "stream",
          "name": "stdout",
          "text": [
            "Charlene\n"
          ]
        }
      ]
    },
    {
      "cell_type": "markdown",
      "source": [
        "# Task 2b\n",
        "Check the data type of customer"
      ],
      "metadata": {
        "id": "rqi5fTVozocO"
      }
    },
    {
      "cell_type": "code",
      "source": [
        "# your code here\n",
        "#Task 2b\n",
        "type(customer)"
      ],
      "metadata": {
        "id": "rDhc3ttLzjCN",
        "colab": {
          "base_uri": "https://localhost:8080/"
        },
        "outputId": "0223ada2-fbeb-4c39-e0a3-21b7424c13b8"
      },
      "execution_count": 11,
      "outputs": [
        {
          "output_type": "execute_result",
          "data": {
            "text/plain": [
              "str"
            ]
          },
          "metadata": {},
          "execution_count": 11
        }
      ]
    },
    {
      "cell_type": "markdown",
      "source": [
        "# Task 2c\n",
        "Set up a comparison statement using == to test if the customer is Charlene.\n",
        "\n",
        "Your code should return True."
      ],
      "metadata": {
        "id": "XuM8gGRmzyz0"
      }
    },
    {
      "cell_type": "code",
      "source": [
        "# your code here\n",
        "#Task 2c\n",
        "customer == \"Charlene\""
      ],
      "metadata": {
        "id": "m-69lURK0NIp",
        "colab": {
          "base_uri": "https://localhost:8080/"
        },
        "outputId": "4792988c-7f2e-40bd-bc92-83e5d258dd88"
      },
      "execution_count": 13,
      "outputs": [
        {
          "output_type": "execute_result",
          "data": {
            "text/plain": [
              "True"
            ]
          },
          "metadata": {},
          "execution_count": 13
        }
      ]
    },
    {
      "cell_type": "markdown",
      "source": [
        "# Task 2d\n",
        "Set up a compararison statement using == to test if the customer is Bob.\n",
        "\n",
        "Your code should return False."
      ],
      "metadata": {
        "id": "Ox9QmPr-0NlO"
      }
    },
    {
      "cell_type": "code",
      "source": [
        "# your code here\n",
        "#Task 2d\n",
        "\n",
        "customer == \"Bob\""
      ],
      "metadata": {
        "id": "BvWaCs5R0SO-",
        "colab": {
          "base_uri": "https://localhost:8080/"
        },
        "outputId": "0f403df9-d841-4e86-e24b-56185bf1bff1"
      },
      "execution_count": 14,
      "outputs": [
        {
          "output_type": "execute_result",
          "data": {
            "text/plain": [
              "False"
            ]
          },
          "metadata": {},
          "execution_count": 14
        }
      ]
    }
  ]
}