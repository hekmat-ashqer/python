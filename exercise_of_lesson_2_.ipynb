{
  "nbformat": 4,
  "nbformat_minor": 0,
  "metadata": {
    "colab": {
      "provenance": [],
      "authorship_tag": "ABX9TyPdXf9UcwuVd9dtJD3quCk6",
      "include_colab_link": true
    },
    "kernelspec": {
      "name": "python3",
      "display_name": "Python 3"
    },
    "language_info": {
      "name": "python"
    }
  },
  "cells": [
    {
      "cell_type": "markdown",
      "metadata": {
        "id": "view-in-github",
        "colab_type": "text"
      },
      "source": [
        "<a href=\"https://colab.research.google.com/github/hekmat-ashqer/python/blob/main/exercise_of_lesson_2_.ipynb\" target=\"_parent\"><img src=\"https://colab.research.google.com/assets/colab-badge.svg\" alt=\"Open In Colab\"/></a>"
      ]
    },
    {
      "cell_type": "code",
      "execution_count": 2,
      "metadata": {
        "colab": {
          "base_uri": "https://localhost:8080/"
        },
        "id": "yOEAqyI_DgaX",
        "outputId": "14edfea4-1eb6-4224-d69e-ea160d8605e9"
      },
      "outputs": [
        {
          "output_type": "stream",
          "name": "stdout",
          "text": [
            "[0.54340494 0.27836939 0.42451759 0.84477613 0.00471886 0.12156912\n",
            " 0.67074908 0.82585276 0.13670659 0.57509333]\n",
            "0.4999933000391498\n",
            "Time taken by sum/len approach: 10.884214639663696 \n",
            "mean_np : \n",
            "0.49999330003923603\n",
            "Time taken by mean_np approach: 0.06981682777404785 \n"
          ]
        }
      ],
      "source": [
        "import numpy as np\n",
        "import time\n",
        "i=0\n",
        "\n",
        "# Set the seed for reproducibility\n",
        "np.random.seed(100)\n",
        "\n",
        "# generate random numbers list\n",
        "\n",
        "random_times = np.random.random(100000000)\n",
        "\n",
        "# just check the first 10 items\n",
        "\n",
        "print(random_times[:10])\n",
        "\n",
        "# will calculate\n",
        "\n",
        "start_time_np = time.time()\n",
        "summ = sum(random_times)\n",
        "length = len(random_times)\n",
        "mean= summ/length\n",
        "print(mean)\n",
        "\n",
        "end_time_np = time.time()\n",
        "elapsed_time_np = end_time_np - start_time_np\n",
        "\n",
        "print(f'Time taken by sum/len approach: {elapsed_time_np} ')\n",
        "\n",
        "\n",
        "\n",
        "start_time_np = time.time()\n",
        "mean_np= np.mean(random_times)\n",
        "print(\"mean_np : \")\n",
        "print(mean_np)\n",
        "end_time_np = time.time()\n",
        "elapsed_time_np = end_time_np - start_time_np\n",
        "\n",
        "print(f'Time taken by mean_np approach: {elapsed_time_np} ')\n"
      ]
    }
  ]
}