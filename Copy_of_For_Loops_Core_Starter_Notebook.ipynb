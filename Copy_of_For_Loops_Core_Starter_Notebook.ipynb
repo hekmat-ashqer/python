{
  "nbformat": 4,
  "nbformat_minor": 0,
  "metadata": {
    "colab": {
      "provenance": []
    },
    "kernelspec": {
      "name": "python3",
      "display_name": "Python 3"
    },
    "language_info": {
      "name": "python"
    }
  },
  "cells": [
    {
      "cell_type": "markdown",
      "source": [
        "# Loops Exercise -  Core\n"
      ],
      "metadata": {
        "id": "GoCvWTFUOpms"
      }
    },
    {
      "cell_type": "markdown",
      "source": [
        "# Task 1: Loop through a list\n",
        "\n",
        "A company sells the following items at the given prices:\n",
        "\n",
        "Shirts 10.00\n",
        "\n",
        "Hats 15.00\n",
        "\n",
        "Buttons 4.00\n",
        "\n",
        "Stickers 1.00\n",
        "\n",
        "TO DO:\n",
        "\n",
        "A: Run the pre-coded cell to create a list of the products.\n",
        "\n",
        "B: Write a for-loop and use an f-string to print \"We sell PRODUCT here!\" for each product in the list.\n",
        "\n",
        "\n"
      ],
      "metadata": {
        "id": "rF_SiCDOQlU1"
      }
    },
    {
      "cell_type": "code",
      "source": [
        "# Create a list of products\n",
        "products = ['Shirts', 'Hats', 'Buttons', 'Stickers']"
      ],
      "metadata": {
        "id": "rvrFnQFoRWJC"
      },
      "execution_count": 1,
      "outputs": []
    },
    {
      "cell_type": "code",
      "source": [
        "# Write a for-loop to repeat the print statement for each product in the list.\n",
        "for product in products:\n",
        "  print(product)"
      ],
      "metadata": {
        "id": "mGaE09aHR4lc",
        "colab": {
          "base_uri": "https://localhost:8080/"
        },
        "outputId": "ad771f18-4452-4e5f-fad9-20dd1a1539d7"
      },
      "execution_count": 2,
      "outputs": [
        {
          "output_type": "stream",
          "name": "stdout",
          "text": [
            "Shirts\n",
            "Hats\n",
            "Buttons\n",
            "Stickers\n"
          ]
        }
      ]
    },
    {
      "cell_type": "markdown",
      "source": [
        "#Task 2: Use a loop to append values to a new list\n",
        "\n",
        "The products are going on a 20% off sale!  \n",
        "\n",
        "\n",
        "TO DO:\n",
        "\n",
        "A: Run the precoded cell to create the list of original\n",
        "B: Define an empty list called sale_prices\n",
        "\n",
        "C: Write a for-loop to append values to the sales_prices list that reflect the sale price (original price * 0.8)\n",
        "\n",
        "D: Print the new list of sales_prices"
      ],
      "metadata": {
        "id": "cXRXz0_eJeFF"
      }
    },
    {
      "cell_type": "code",
      "source": [
        "# Create a list of the prices.\n",
        "original_prices = [10, 15, 4, 1]"
      ],
      "metadata": {
        "id": "1w5ccy0JSbmf"
      },
      "execution_count": 3,
      "outputs": []
    },
    {
      "cell_type": "code",
      "source": [
        "# Create an empty list called sale_prices\n",
        "sale_prices = []"
      ],
      "metadata": {
        "id": "O3TcQOEiSk9S"
      },
      "execution_count": 5,
      "outputs": []
    },
    {
      "cell_type": "code",
      "source": [
        "# Use a loop to append the sale_prices list with the sale price (a 20% discount means the original price is multiplied by .8)\n",
        "for price in original_prices :\n",
        "  new_sale_price = 0.8*price\n",
        "  sale_prices.append(new_sale_price)\n",
        "\n",
        "print(sale_prices)"
      ],
      "metadata": {
        "id": "VC4CMqr_S9Yw",
        "colab": {
          "base_uri": "https://localhost:8080/"
        },
        "outputId": "b7111e24-30b6-4d5f-ac42-ff72bc522504"
      },
      "execution_count": 9,
      "outputs": [
        {
          "output_type": "stream",
          "name": "stdout",
          "text": [
            "[8.0, 12.0, 3.2, 0.8]\n"
          ]
        }
      ]
    },
    {
      "cell_type": "code",
      "source": [
        "# Print the list of sale_prices\n",
        "\n",
        "print(sale_prices)"
      ],
      "metadata": {
        "id": "dGWiS6OBQZoB",
        "colab": {
          "base_uri": "https://localhost:8080/"
        },
        "outputId": "6d5fd102-b2ae-4162-dbfd-50d5a8e86f73"
      },
      "execution_count": 10,
      "outputs": [
        {
          "output_type": "stream",
          "name": "stdout",
          "text": [
            "[8.0, 12.0, 3.2, 0.8]\n"
          ]
        }
      ]
    },
    {
      "cell_type": "markdown",
      "source": [
        "#Task 3: Loop through a dictionary\n",
        "\n",
        "TO DO:\n",
        "\n",
        "A: Run the pre-coded cell to create the prices_dict.\n",
        "\n",
        "B: Loop through the prices_dict and use an f-sting to print the statement: \"We sell PRODUCT!\"\n",
        "\n",
        "C: Loop through the prices_dict using prices_dict.items() to print the statement \"PRODUCT costs $PRICE each.\" for each product in the dictionary."
      ],
      "metadata": {
        "id": "5RhQT86XT9-v"
      }
    },
    {
      "cell_type": "code",
      "source": [
        "# Run this cell to create a dictionary with product and price\n",
        "prices_dict = {'Shirts': 10,\n",
        "              'Hats': 15,\n",
        "              'Buttons' : 4,\n",
        "              'Stickers' : 1}\n",
        "\n",
        "prices_dict"
      ],
      "metadata": {
        "id": "HxAD2FQYVjBE",
        "colab": {
          "base_uri": "https://localhost:8080/"
        },
        "outputId": "f0e96bd7-8124-4d4a-8d45-8b9a04950a84"
      },
      "execution_count": 11,
      "outputs": [
        {
          "output_type": "execute_result",
          "data": {
            "text/plain": [
              "{'Shirts': 10, 'Hats': 15, 'Buttons': 4, 'Stickers': 1}"
            ]
          },
          "metadata": {},
          "execution_count": 11
        }
      ]
    },
    {
      "cell_type": "code",
      "source": [
        "# Loop through the dictionary to print: \"We sell __!\"\n",
        "for key ,value  in prices_dict.items():\n",
        "    print(f' We sell {key} !')"
      ],
      "metadata": {
        "id": "NWLMQwSmWpGE",
        "colab": {
          "base_uri": "https://localhost:8080/"
        },
        "outputId": "223fba04-1b05-4c47-d9e5-7c42d2f5d064"
      },
      "execution_count": 14,
      "outputs": [
        {
          "output_type": "stream",
          "name": "stdout",
          "text": [
            " We sell Shirts !\n",
            " We sell Hats !\n",
            " We sell Buttons !\n",
            " We sell Stickers !\n"
          ]
        }
      ]
    },
    {
      "cell_type": "code",
      "source": [
        "# Loop through the dictionary to print: \"__ cost $__ each\".\n",
        "for key ,value  in prices_dict.items():\n",
        "    print(f'  {key} cost  ${value} each')"
      ],
      "metadata": {
        "id": "NSZCca2oWvry",
        "colab": {
          "base_uri": "https://localhost:8080/"
        },
        "outputId": "d7ac7cbf-1c78-4f86-d8b2-97180ee8655f"
      },
      "execution_count": 15,
      "outputs": [
        {
          "output_type": "stream",
          "name": "stdout",
          "text": [
            "  Shirts cost  $10 each\n",
            "  Hats cost  $15 each\n",
            "  Buttons cost  $4 each\n",
            "  Stickers cost  $1 each\n"
          ]
        }
      ]
    },
    {
      "cell_type": "markdown",
      "source": [
        "#Task 4: Create a new dictionary by updating values using a for-loop\n",
        "\n",
        "We want to create a new dictionary that contains the product and the sale price called sale_dict.\n",
        "\n",
        "To create the prices_dict in the above task, we just provided the code cell with the necessary information. Rather than typing all of the info to make the sale dictionary, we will use a for-loop to calculate the sale price based on the original price.\n",
        "\n",
        "TO DO:\n",
        "\n",
        "A: Create an empty dictionary called sales_dict.\n",
        "\n",
        "B: Use a for-loop and prices_dict.items() to fill in the sales_dict.\n",
        "\n",
        "* Calculate the sale price (original price * 0.8).\n",
        "\n",
        "* Save the sale price in the sales_dict using the product name as the key.\n",
        "\n",
        "C: Print the sales_dict\n",
        "\n",
        "D: Loop through the sales_dict.items() to print \"PRODUCT are on sale for only SALE PRICE!'\n",
        "\n",
        "\n"
      ],
      "metadata": {
        "id": "V_WVu-S0IG3w"
      }
    },
    {
      "cell_type": "code",
      "source": [
        "# Use a loop to create a new dictionary with product and sales prices\n",
        "sales_dict ={}\n",
        "print(prices_dict)\n",
        "for product ,price  in prices_dict.items():\n",
        "  sale_price = 0.8 * price\n",
        "  sales_dict[product] = sale_price\n",
        "\n",
        "print(sales_dict)"
      ],
      "metadata": {
        "id": "JvoYAQcySzM8",
        "colab": {
          "base_uri": "https://localhost:8080/"
        },
        "outputId": "c8e1d875-c41a-413b-93bd-c4b1641290a1"
      },
      "execution_count": 21,
      "outputs": [
        {
          "output_type": "stream",
          "name": "stdout",
          "text": [
            "{'Shirts': 10, 'Hats': 15, 'Buttons': 4, 'Stickers': 1}\n",
            "{'Shirts': 8.0, 'Hats': 12.0, 'Buttons': 3.2, 'Stickers': 0.8}\n"
          ]
        }
      ]
    },
    {
      "cell_type": "code",
      "source": [
        "# Print the sales_dict\n",
        "\n",
        "print(sales_dict)"
      ],
      "metadata": {
        "id": "mTRik7dGl52i",
        "colab": {
          "base_uri": "https://localhost:8080/"
        },
        "outputId": "f93a53b2-4391-400d-9f55-6d9a67c970f0"
      },
      "execution_count": 22,
      "outputs": [
        {
          "output_type": "stream",
          "name": "stdout",
          "text": [
            "{'Shirts': 8.0, 'Hats': 12.0, 'Buttons': 3.2, 'Stickers': 0.8}\n"
          ]
        }
      ]
    },
    {
      "cell_type": "code",
      "source": [
        "# Loop throuh the sale_dict to print \"PRODUCT are on sale for only SALE PRICE!\" for each item.\n",
        "for product ,price  in sales_dict.items():\n",
        " print(f'  {product} are on sale for only ${price}!')"
      ],
      "metadata": {
        "id": "aYRJqGktNO_g",
        "colab": {
          "base_uri": "https://localhost:8080/"
        },
        "outputId": "e99d73e1-d175-4aaa-d1fb-3125aecd7b94"
      },
      "execution_count": 25,
      "outputs": [
        {
          "output_type": "stream",
          "name": "stdout",
          "text": [
            "  Shirts are on sale for only $8.0!\n",
            "  Hats are on sale for only $12.0!\n",
            "  Buttons are on sale for only $3.2!\n",
            "  Stickers are on sale for only $0.8!\n"
          ]
        }
      ]
    }
  ]
}