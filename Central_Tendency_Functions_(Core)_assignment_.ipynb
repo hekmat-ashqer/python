{
  "nbformat": 4,
  "nbformat_minor": 0,
  "metadata": {
    "colab": {
      "provenance": []
    },
    "kernelspec": {
      "name": "python3",
      "display_name": "Python 3"
    },
    "language_info": {
      "name": "python"
    }
  },
  "cells": [
    {
      "cell_type": "markdown",
      "source": [
        "3) Add the imports you will need to find the mean, median, and mode\n",
        "\n"
      ],
      "metadata": {
        "id": "KCff2UO-NzPu"
      }
    },
    {
      "cell_type": "code",
      "execution_count": 3,
      "metadata": {
        "id": "29EDVvbCNa0K"
      },
      "outputs": [],
      "source": [
        "import numpy as np\n",
        "import statistics as stsc\n",
        "\n",
        "\n",
        "\n",
        "#Lists of Fahrenheit temps\n",
        "week_1 = [45, 55, 49, 60, 52, 55, 58]\n",
        "week_2 = [51, 49, 62, 50, 53, 56, 59]\n",
        "week_3 = [60, 60, 61, 62, 57, 59, 58]\n",
        "week_4 = [59, 63, 62, 61, 65, 66, 62]"
      ]
    },
    {
      "cell_type": "markdown",
      "source": [
        "4) Use functions from the imported packages to find the mean, median, and mode for the week_1 data.\n",
        "\n"
      ],
      "metadata": {
        "id": "vab478umNyZ1"
      }
    },
    {
      "cell_type": "code",
      "source": [
        "mean_week1 = round(np.mean(week_1),2)\n",
        "print(f'mean for week 1 is  {mean_week1}')\n",
        "\n",
        "median_week1 = np.median(week_1)\n",
        "print(f'median for week 1 is {median_week1}')\n",
        "\n",
        "mode_week1 = stsc.mode(week_1)\n",
        "print(f'mode for week 1 is {mode_week1}')\n",
        "\n",
        "\n"
      ],
      "metadata": {
        "colab": {
          "base_uri": "https://localhost:8080/"
        },
        "id": "XWomHOaWN7An",
        "outputId": "28082008-f65a-4e40-89eb-39e0ced66389"
      },
      "execution_count": 10,
      "outputs": [
        {
          "output_type": "stream",
          "name": "stdout",
          "text": [
            "mean for week 1 is  53.43\n",
            "median for week 1 is 55.0\n",
            "mode for week 1 is 55\n"
          ]
        }
      ]
    },
    {
      "cell_type": "markdown",
      "source": [
        "5) Now, rather than having to call each of these functions separately to get the three measures of central tendency, write a custom function to return all three values in a single function call:\n",
        "\n",
        "Name the function \"central_tendency\" and start with a single positional argument that accepts the list of temperatures.\n",
        "Define three variables as mean_temp, median_temp, and mode_temp using the existing functions from NumPy and the statistics module.\n",
        "Add a return statement to return all three variables.\n",
        "\n"
      ],
      "metadata": {
        "id": "9s_5JmqJPbyA"
      }
    },
    {
      "cell_type": "code",
      "source": [
        "def central_tendency(temp_list):\n",
        "  mean_temp = round(np.mean(temp_list),2)\n",
        "  median_temp = round(np.median(temp_list),2)\n",
        "  mode_temp  = round(stsc.mode(temp_list),2)\n",
        "  return mean_temp, median_temp, mode_temp\n"
      ],
      "metadata": {
        "id": "clGudNY5PabW"
      },
      "execution_count": 21,
      "outputs": []
    },
    {
      "cell_type": "markdown",
      "source": [
        "6) Test the function by calling it on week_1 data.\n",
        "\n"
      ],
      "metadata": {
        "id": "DNkSjIUTQeL2"
      }
    },
    {
      "cell_type": "code",
      "source": [
        "\n",
        "mean_week1 , median_week1 , mode_week1 = central_tendency(week_1)\n",
        "\n",
        "print(f'mean for week 1 is  {mean_week1}')\n",
        "\n",
        "print(f'median for week 1 is {median_week1}')\n",
        "\n",
        "print(f'mode for week 1 is {mode_week1}')"
      ],
      "metadata": {
        "colab": {
          "base_uri": "https://localhost:8080/"
        },
        "id": "IuFXsOHKQfn3",
        "outputId": "dc6c87ff-78c4-486b-b450-ed40ff15df55"
      },
      "execution_count": 24,
      "outputs": [
        {
          "output_type": "stream",
          "name": "stdout",
          "text": [
            "mean for week 1 is  53.43\n",
            "median for week 1 is 55.0\n",
            "mode for week 1 is 55\n"
          ]
        }
      ]
    },
    {
      "cell_type": "markdown",
      "source": [
        "7) Create a modified version of the central_tendency function to include a keyword argument with the default set to verbose = True\n",
        "\n",
        "Add conditional statements within the function so that if verbose = True, the function will print:\n",
        "The mean is ___.\n",
        "\n",
        "The median is ___.\n",
        "\n",
        "The mode is ___.\n",
        "\n",
        "(Hint: use f-strings to fill in the blanks with the appropriate information)"
      ],
      "metadata": {
        "id": "7hjUZtu1RgBT"
      }
    },
    {
      "cell_type": "code",
      "source": [
        "def central_tendency(temp_list, verbose = True):\n",
        "  mean_temp = round(np.mean(temp_list),2)\n",
        "  median_temp = round(np.median(temp_list),2)\n",
        "  mode_temp  = round(stsc.mode(temp_list),2)\n",
        "  if(verbose==True):\n",
        "    print(f'The mean is {mean_temp}')\n",
        "    print(f'The median is  {median_temp}')\n",
        "    print(f'The mode is {mode_temp}')\n",
        "  else:\n",
        "    return mean_temp, median_temp, mode_temp"
      ],
      "metadata": {
        "id": "wPtc6G-RRJyQ"
      },
      "execution_count": 25,
      "outputs": []
    },
    {
      "cell_type": "code",
      "source": [
        "central_tendency(week_2,True)\n",
        "\n"
      ],
      "metadata": {
        "colab": {
          "base_uri": "https://localhost:8080/"
        },
        "id": "-32gvcEKR_V9",
        "outputId": "666d1a3a-f62d-47f3-fa52-88b6e4377f1d"
      },
      "execution_count": 26,
      "outputs": [
        {
          "output_type": "stream",
          "name": "stdout",
          "text": [
            "The mean is 54.29\n",
            "The median is  53.0\n",
            "The mode is 51\n"
          ]
        }
      ]
    },
    {
      "cell_type": "code",
      "source": [
        "central_tendency(week_3)\n"
      ],
      "metadata": {
        "colab": {
          "base_uri": "https://localhost:8080/"
        },
        "id": "y28_wueWSo9j",
        "outputId": "1f531345-d885-41e1-a805-52de5f9b99a6"
      },
      "execution_count": 28,
      "outputs": [
        {
          "output_type": "stream",
          "name": "stdout",
          "text": [
            "The mean is 59.57\n",
            "The median is  60.0\n",
            "The mode is 60\n"
          ]
        }
      ]
    },
    {
      "cell_type": "code",
      "source": [
        "central_tendency(week_4,False)\n"
      ],
      "metadata": {
        "colab": {
          "base_uri": "https://localhost:8080/"
        },
        "id": "UE2UcK54SuYl",
        "outputId": "e25372df-e0ec-4b68-d607-4fefc0c424e2"
      },
      "execution_count": 29,
      "outputs": [
        {
          "output_type": "execute_result",
          "data": {
            "text/plain": [
              "(62.57, 62.0, 62)"
            ]
          },
          "metadata": {},
          "execution_count": 29
        }
      ]
    }
  ]
}